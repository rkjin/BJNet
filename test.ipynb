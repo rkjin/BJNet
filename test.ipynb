{
 "cells": [
  {
   "cell_type": "code",
   "execution_count": 2,
   "metadata": {},
   "outputs": [
    {
     "name": "stdout",
     "output_type": "stream",
     "text": [
      "1.10.2+cu113\n"
     ]
    }
   ],
   "source": [
    "import torch\n",
    "torch.cuda.is_available()\n",
    "print(torch.__version__)"
   ]
  },
  {
   "cell_type": "code",
   "execution_count": 5,
   "metadata": {},
   "outputs": [
    {
     "data": {
      "text/plain": [
       "8200"
      ]
     },
     "execution_count": 5,
     "metadata": {},
     "output_type": "execute_result"
    }
   ],
   "source": [
    "torch.backends.cudnn.version()"
   ]
  },
  {
   "cell_type": "code",
   "execution_count": 7,
   "metadata": {},
   "outputs": [
    {
     "name": "stdout",
     "output_type": "stream",
     "text": [
      "<class 'module'>\n"
     ]
    }
   ],
   "source": [
    "import gc\n",
    "gc.collect()\n",
    "print(type(gc))"
   ]
  },
  {
   "cell_type": "code",
   "execution_count": 4,
   "metadata": {},
   "outputs": [
    {
     "name": "stdout",
     "output_type": "stream",
     "text": [
      "tensor([[[  0.,   1.,   4.,   9.],\n",
      "         [ 16.,  25.,  36.,  49.],\n",
      "         [ 64.,  81., 100., 121.]],\n",
      "\n",
      "        [[144., 169., 196., 225.],\n",
      "         [256., 289., 324., 361.],\n",
      "         [400., 441., 484., 529.]]])\n"
     ]
    },
    {
     "data": {
      "text/plain": [
       "tensor([[ 26.6667,  35.6667,  46.6667,  59.6667],\n",
       "        [266.6667, 299.6667, 334.6667, 371.6667]])"
      ]
     },
     "execution_count": 4,
     "metadata": {},
     "output_type": "execute_result"
    }
   ],
   "source": [
    "\n",
    "import numpy as np\n",
    "a = torch.Tensor(np.arange(24).reshape(2,3,4)) \n",
    "b = torch.Tensor(np.arange(24).reshape(2,3,4)) \n",
    "print(a*b)\n",
    "(a*b).mean(dim=1)"
   ]
  },
  {
   "cell_type": "code",
   "execution_count": null,
   "metadata": {},
   "outputs": [],
   "source": [
    "import cv2\n",
    "\n",
    "\n",
    "cap = cv2.VideoCapture(0)\n",
    "cap.set(cv2.CAP_PROP_FRAME_WIDTH, 2560)\n",
    "cap.set(cv2.CAP_PROP_FRAME_HEIGHT, 960)\n",
    "fps = cap.get(cv2.CAP_PROP_FPS)\n",
    "\n",
    "\n",
    "\n",
    "fourcc = cv2.VideoWriter_fourcc(*'DIVX')\n",
    "out = cv2.VideoWriter('output.avi', fourcc, fps, (2560, 960))\n",
    "\n",
    "\n",
    "while True:\n",
    "    ret, frame = cap.read()\n",
    "    frame = cv2.flip(frame,0)\n",
    "    cv2.imshow('frame',frame)\n",
    "\n",
    "    out.write(frame) \n",
    "    if cv2.waitKey(1) == 27:\n",
    "        break\n",
    "out.release()\n",
    "cap.release()\n",
    "cv2.destroyAllWindows()\n"
   ]
  },
  {
   "cell_type": "code",
   "execution_count": 9,
   "metadata": {},
   "outputs": [
    {
     "name": "stdout",
     "output_type": "stream",
     "text": [
      "[[ 0  1  2  3]\n",
      " [ 4  5  6  7]\n",
      " [ 8  9 10 11]]\n"
     ]
    },
    {
     "data": {
      "text/plain": [
       "array([[ 3,  4,  5,  6],\n",
       "       [ 7,  8,  9, 10],\n",
       "       [11, 12, 13, 14]])"
      ]
     },
     "execution_count": 9,
     "metadata": {},
     "output_type": "execute_result"
    }
   ],
   "source": [
    "import numpy as np\n",
    "\n",
    "a = np.arange(12).reshape(3,4)\n",
    "print(a)\n",
    "b = 3 + a\n",
    "b"
   ]
  },
  {
   "cell_type": "code",
   "execution_count": 8,
   "metadata": {},
   "outputs": [
    {
     "name": "stdout",
     "output_type": "stream",
     "text": [
      "<class 'list'> <class 'tuple'>\n"
     ]
    }
   ],
   "source": [
    "a = [1,2]\n",
    "b = (1,2)\n",
    "print(type(a), type(b))\n"
   ]
  },
  {
   "cell_type": "code",
   "execution_count": 17,
   "metadata": {},
   "outputs": [
    {
     "data": {
      "text/plain": [
       "array([3, 4, 2, 2, 4, 2, 3, 2, 2, 1])"
      ]
     },
     "execution_count": 17,
     "metadata": {},
     "output_type": "execute_result"
    }
   ],
   "source": [
    "np.random.binomial(4,0.5,10)"
   ]
  },
  {
   "cell_type": "code",
   "execution_count": 20,
   "metadata": {},
   "outputs": [
    {
     "name": "stdout",
     "output_type": "stream",
     "text": [
      "[[3 3 3]\n",
      " [3 3 3]\n",
      " [3 3 3]] [3. 4. 5.] 4.0 [[4.]] (1, 1)\n"
     ]
    }
   ],
   "source": [
    "a = np.arange(9).reshape(3,3)\n",
    "b = np.mean(a,0)\n",
    "c = np.mean(np.mean(a,0))\n",
    "d = np.mean(np.mean(a,0),0)[np.newaxis, np.newaxis]\n",
    "a[:] = 3\n",
    "print(a, b, c, d, d.shape) "
   ]
  },
  {
   "cell_type": "code",
   "execution_count": 26,
   "metadata": {},
   "outputs": [],
   "source": [
    "import torchvision.transforms as transforms"
   ]
  },
  {
   "cell_type": "code",
   "execution_count": 36,
   "metadata": {},
   "outputs": [
    {
     "name": "stdout",
     "output_type": "stream",
     "text": [
      "(5, 5, 3)\n",
      "[[[ 3  4  5]\n",
      "  [ 6  7  8]]\n",
      "\n",
      " [[18 19 20]\n",
      "  [21 22 23]]] (2, 2, 3)\n"
     ]
    }
   ],
   "source": [
    "a = np.arange(75).reshape(5,5,3) \n",
    "print(a.shape)\n",
    "b = a[0:2, 1:3]\n",
    "print(b, b.shape)"
   ]
  },
  {
   "cell_type": "code",
   "execution_count": 42,
   "metadata": {},
   "outputs": [
    {
     "name": "stdout",
     "output_type": "stream",
     "text": [
      "(10, 20, 3) <class 'torchvision.transforms.transforms.Compose'>\n",
      "torch.Size([3, 10, 20])\n"
     ]
    }
   ],
   "source": [
    "a = np.arange(600,dtype = np.float32).reshape(10,20,3) \n",
    " \n",
    "def get_transform():\n",
    "    mean = [0.485, 0.456, 0.406]\n",
    "    std = [0.229, 0.224, 0.225]\n",
    "\n",
    "    return transforms.Compose([\n",
    "        transforms.ToTensor(),\n",
    "        transforms.Normalize(mean=mean, std=std),\n",
    "    ])\n",
    "b = get_transform()\n",
    "print(a.shape, type(b))\n",
    "print(b(a).shape)"
   ]
  },
  {
   "cell_type": "code",
   "execution_count": 1,
   "metadata": {},
   "outputs": [
    {
     "name": "stdout",
     "output_type": "stream",
     "text": [
      "this is test\n"
     ]
    }
   ],
   "source": [
    "a = 'this is test'\n",
    "print('%s'%a)"
   ]
  },
  {
   "cell_type": "code",
   "execution_count": 7,
   "metadata": {},
   "outputs": [
    {
     "name": "stdout",
     "output_type": "stream",
     "text": [
      "[-10.          -8.94736842  -7.89473684  -6.84210526  -5.78947368\n",
      "  -4.73684211  -3.68421053  -2.63157895  -1.57894737  -0.52631579\n",
      "   0.52631579   1.57894737   2.63157895   3.68421053   4.73684211\n",
      "   5.78947368   6.84210526   7.89473684   8.94736842  10.        ]\n"
     ]
    },
    {
     "data": {
      "text/plain": [
       "[<matplotlib.lines.Line2D at 0x7fc3da2b9460>]"
      ]
     },
     "execution_count": 7,
     "metadata": {},
     "output_type": "execute_result"
    },
    {
     "data": {
      "image/png": "[encoded data removed]",
      "text/plain": [
       "<Figure size 432x288 with 1 Axes>"
      ]
     },
     "metadata": {
      "needs_background": "light"
     },
     "output_type": "display_data"
    }
   ],
   "source": [
    "import numpy as np\n",
    "import torch\n",
    "import torch.nn.functional as F\n",
    "import matplotlib.pyplot as plt\n",
    "a = np.linspace(-10, 10, 20)\n",
    "print(a)\n",
    "x = torch.tensor(a)\n",
    "mish = x *( torch.tanh(F.softplus(x)))\n",
    "plt.plot(mish)"
   ]
  },
  {
   "cell_type": "code",
   "execution_count": 10,
   "metadata": {},
   "outputs": [
    {
     "name": "stdout",
     "output_type": "stream",
     "text": [
      "1 2\n",
      "1\n"
     ]
    }
   ],
   "source": [
    "class a():\n",
    "    b = 1\n",
    "    c = 2\n",
    "\n",
    "d = a()\n",
    "\n",
    "print(a.b, a.c)    \n",
    "\n",
    "print(d.b)"
   ]
  },
  {
   "cell_type": "code",
   "execution_count": 59,
   "metadata": {},
   "outputs": [
    {
     "name": "stdout",
     "output_type": "stream",
     "text": [
      "<class 'list'> [1, 2, 3, 4, 5, 6, 7, 8, 9]\n",
      "<class 'tuple'> ([1, 2, 3, 4, 5, 6, 7, 8, 9],)\n",
      "[1, 2, 3, 4, 5, 6, 7, 8, 9]\n",
      "None\n",
      "unpack 1 2 3 4 5 6 7 8 9\n",
      "<class 'tuple'> (1, 2, 3, 4, 5, 6, 7, 8, 9)\n",
      "1\n",
      "2\n",
      "3\n",
      "4\n",
      "5\n",
      "6\n",
      "7\n",
      "8\n",
      "9\n",
      "None\n",
      "1 2 3 4 5 6 7 8 9 1\n"
     ]
    }
   ],
   "source": [
    "x = [1,2,3,4,5,6,7,8,9]\n",
    "print(type(x), x)\n",
    "def a(*b): #숫자가 정해지지 않는 인수 받음.\n",
    "    print(type(b), b)\n",
    "    for i in b:\n",
    "        print(i)\n",
    "\n",
    "print(a(x)) # x list 전체가 한개로 전달되는 형태\n",
    "print('unpack', *x) #unpack x\n",
    "print(a(*x)) #unpack x 전달\n",
    "d, *_ = x # unpack\n",
    "print(d, *_, x[0])\n"
   ]
  },
  {
   "cell_type": "code",
   "execution_count": 58,
   "metadata": {},
   "outputs": [
    {
     "name": "stdout",
     "output_type": "stream",
     "text": [
      "[1, 2, 3, 4, 5, 6, 7, 8, 9]\n",
      "<class 'list'> [1, 2, 3, 4, 5, 6, 7, 8, 9] 9\n",
      "0 1\n",
      "1 2\n",
      "2 3\n",
      "3 4\n",
      "4 5\n",
      "5 6\n",
      "6 7\n",
      "7 8\n",
      "8 9\n",
      "None\n",
      "1 2 3 4 5 6 7 8 9\n",
      "<class 'int'> 1 1\n",
      "<class 'list'> [2, 3, 4, 5, 6, 7, 8, 9]\n",
      "1\n",
      "2\n",
      "3\n",
      "4\n",
      "5\n",
      "6\n",
      "7\n",
      "8\n",
      "9\n"
     ]
    }
   ],
   "source": [
    "x = [1,2,3,4,5,6,7,8,9]\n",
    "print(x)\n",
    "def a(b):\n",
    "    print(type(b), b, len(b))\n",
    "    for n, i in enumerate(b):\n",
    "        print(n, i)\n",
    "    return\n",
    "\n",
    "print(a(x))  # x list 전체가 한개로 전달되는 형태\n",
    "print(*x) #unpack x\n",
    "# print(a(*x)) #unpack x 전달 error\n",
    "d, *e = x\n",
    "print(type(d), d, x[0])\n",
    "print(type(e),e)\n",
    "for i in x:\n",
    "    print(i)"
   ]
  }
 ],
 "metadata": {
  "kernelspec": {
   "display_name": "Python 3.8.10 ('cfnet_venv')",
   "language": "python",
   "name": "python3"
  },
  "language_info": {
   "codemirror_mode": {
    "name": "ipython",
    "version": 3
   },
   "file_extension": ".py",
   "mimetype": "text/x-python",
   "name": "python",
   "nbconvert_exporter": "python",
   "pygments_lexer": "ipython3",
   "version": "3.8.10"
  },
  "orig_nbformat": 4,
  "vscode": {
   "interpreter": {
    "hash": "f8b245196578ab60b61e543640d320aa047218d8e06c6b0318c56bb35d0b3b3d"
   }
  }
 },
 "nbformat": 4,
 "nbformat_minor": 2
}
