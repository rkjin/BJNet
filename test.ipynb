{
 "cells": [
  {
   "cell_type": "code",
   "execution_count": 1,
   "metadata": {},
   "outputs": [
    {
     "name": "stdout",
     "output_type": "stream",
     "text": [
      "1.10.2+cu113\n"
     ]
    }
   ],
   "source": [
    "import torch\n",
    "torch.cuda.is_available()\n",
    "print(torch.__version__)"
   ]
  },
  {
   "cell_type": "code",
   "execution_count": 2,
   "metadata": {},
   "outputs": [
    {
     "data": {
      "text/plain": [
       "8200"
      ]
     },
     "execution_count": 2,
     "metadata": {},
     "output_type": "execute_result"
    }
   ],
   "source": [
    "torch.backends.cudnn.version()"
   ]
  },
  {
   "cell_type": "code",
   "execution_count": 7,
   "metadata": {},
   "outputs": [
    {
     "name": "stdout",
     "output_type": "stream",
     "text": [
      "<class 'module'>\n"
     ]
    }
   ],
   "source": [
    "import gc\n",
    "gc.collect()\n",
    "print(type(gc))"
   ]
  },
  {
   "cell_type": "code",
   "execution_count": 3,
   "metadata": {},
   "outputs": [
    {
     "name": "stdout",
     "output_type": "stream",
     "text": [
      "tensor([[[  0.,   1.,   4.,   9.],\n",
      "         [ 16.,  25.,  36.,  49.],\n",
      "         [ 64.,  81., 100., 121.]],\n",
      "\n",
      "        [[144., 169., 196., 225.],\n",
      "         [256., 289., 324., 361.],\n",
      "         [400., 441., 484., 529.]]]) torch.Size([2, 3, 4])\n",
      "tensor([[ 26.6667,  35.6667,  46.6667,  59.6667],\n",
      "        [266.6667, 299.6667, 334.6667, 371.6667]]) torch.Size([2, 4])\n"
     ]
    },
    {
     "data": {
      "text/plain": [
       "False"
      ]
     },
     "execution_count": 3,
     "metadata": {},
     "output_type": "execute_result"
    }
   ],
   "source": [
    "\n",
    "import numpy as np\n",
    "a = torch.Tensor(np.arange(24).reshape(2,3,4)) \n",
    "b = torch.Tensor(np.arange(24).reshape(2,3,4)) \n",
    "c = a * b\n",
    "print(c, c.shape)\n",
    "d = (a*b).mean(dim=1)\n",
    "print(d, d.shape)\n",
    "a.requires_grad"
   ]
  },
  {
   "cell_type": "code",
   "execution_count": null,
   "metadata": {},
   "outputs": [],
   "source": [
    "import cv2\n",
    "\n",
    "\n",
    "cap = cv2.VideoCapture(0)\n",
    "cap.set(cv2.CAP_PROP_FRAME_WIDTH, 2560)\n",
    "cap.set(cv2.CAP_PROP_FRAME_HEIGHT, 960)\n",
    "fps = cap.get(cv2.CAP_PROP_FPS)\n",
    "\n",
    "\n",
    "\n",
    "fourcc = cv2.VideoWriter_fourcc(*'DIVX')\n",
    "out = cv2.VideoWriter('output.avi', fourcc, fps, (2560, 960))\n",
    "\n",
    "\n",
    "while True:\n",
    "    ret, frame = cap.read()\n",
    "    frame = cv2.flip(frame,0)\n",
    "    cv2.imshow('frame',frame)\n",
    "\n",
    "    out.write(frame) \n",
    "    if cv2.waitKey(1) == 27:\n",
    "        break\n",
    "out.release()\n",
    "cap.release()\n",
    "cv2.destroyAllWindows()\n"
   ]
  },
  {
   "cell_type": "code",
   "execution_count": 9,
   "metadata": {},
   "outputs": [
    {
     "name": "stdout",
     "output_type": "stream",
     "text": [
      "[[ 0  1  2  3]\n",
      " [ 4  5  6  7]\n",
      " [ 8  9 10 11]]\n"
     ]
    },
    {
     "data": {
      "text/plain": [
       "array([[ 3,  4,  5,  6],\n",
       "       [ 7,  8,  9, 10],\n",
       "       [11, 12, 13, 14]])"
      ]
     },
     "execution_count": 9,
     "metadata": {},
     "output_type": "execute_result"
    }
   ],
   "source": [
    "import numpy as np\n",
    "\n",
    "a = np.arange(12).reshape(3,4)\n",
    "print(a)\n",
    "b = 3 + a\n",
    "b"
   ]
  },
  {
   "cell_type": "code",
   "execution_count": 8,
   "metadata": {},
   "outputs": [
    {
     "name": "stdout",
     "output_type": "stream",
     "text": [
      "<class 'list'> <class 'tuple'>\n"
     ]
    }
   ],
   "source": [
    "a = [1,2]\n",
    "b = (1,2)\n",
    "print(type(a), type(b))\n"
   ]
  },
  {
   "cell_type": "code",
   "execution_count": 17,
   "metadata": {},
   "outputs": [
    {
     "data": {
      "text/plain": [
       "array([3, 4, 2, 2, 4, 2, 3, 2, 2, 1])"
      ]
     },
     "execution_count": 17,
     "metadata": {},
     "output_type": "execute_result"
    }
   ],
   "source": [
    "np.random.binomial(4,0.5,10)"
   ]
  },
  {
   "cell_type": "code",
   "execution_count": 20,
   "metadata": {},
   "outputs": [
    {
     "name": "stdout",
     "output_type": "stream",
     "text": [
      "[[3 3 3]\n",
      " [3 3 3]\n",
      " [3 3 3]] [3. 4. 5.] 4.0 [[4.]] (1, 1)\n"
     ]
    }
   ],
   "source": [
    "a = np.arange(9).reshape(3,3)\n",
    "b = np.mean(a,0)\n",
    "c = np.mean(np.mean(a,0))\n",
    "d = np.mean(np.mean(a,0),0)[np.newaxis, np.newaxis]\n",
    "a[:] = 3\n",
    "print(a, b, c, d, d.shape) "
   ]
  },
  {
   "cell_type": "code",
   "execution_count": 26,
   "metadata": {},
   "outputs": [],
   "source": [
    "import torchvision.transforms as transforms"
   ]
  },
  {
   "cell_type": "code",
   "execution_count": 36,
   "metadata": {},
   "outputs": [
    {
     "name": "stdout",
     "output_type": "stream",
     "text": [
      "(5, 5, 3)\n",
      "[[[ 3  4  5]\n",
      "  [ 6  7  8]]\n",
      "\n",
      " [[18 19 20]\n",
      "  [21 22 23]]] (2, 2, 3)\n"
     ]
    }
   ],
   "source": [
    "a = np.arange(75).reshape(5,5,3) \n",
    "print(a.shape)\n",
    "b = a[0:2, 1:3]\n",
    "print(b, b.shape)"
   ]
  },
  {
   "cell_type": "code",
   "execution_count": 42,
   "metadata": {},
   "outputs": [
    {
     "name": "stdout",
     "output_type": "stream",
     "text": [
      "(10, 20, 3) <class 'torchvision.transforms.transforms.Compose'>\n",
      "torch.Size([3, 10, 20])\n"
     ]
    }
   ],
   "source": [
    "a = np.arange(600,dtype = np.float32).reshape(10,20,3) \n",
    " \n",
    "def get_transform():\n",
    "    mean = [0.485, 0.456, 0.406]\n",
    "    std = [0.229, 0.224, 0.225]\n",
    "\n",
    "    return transforms.Compose([\n",
    "        transforms.ToTensor(),\n",
    "        transforms.Normalize(mean=mean, std=std),\n",
    "    ])\n",
    "b = get_transform()\n",
    "print(a.shape, type(b))\n",
    "print(b(a).shape)"
   ]
  },
  {
   "cell_type": "code",
   "execution_count": 1,
   "metadata": {},
   "outputs": [
    {
     "name": "stdout",
     "output_type": "stream",
     "text": [
      "this is test\n"
     ]
    }
   ],
   "source": [
    "a = 'this is test'\n",
    "print('%s'%a)"
   ]
  },
  {
   "cell_type": "code",
   "execution_count": 7,
   "metadata": {},
   "outputs": [
    {
     "name": "stdout",
     "output_type": "stream",
     "text": [
      "[-10.          -8.94736842  -7.89473684  -6.84210526  -5.78947368\n",
      "  -4.73684211  -3.68421053  -2.63157895  -1.57894737  -0.52631579\n",
      "   0.52631579   1.57894737   2.63157895   3.68421053   4.73684211\n",
      "   5.78947368   6.84210526   7.89473684   8.94736842  10.        ]\n"
     ]
    },
    {
     "data": {
      "text/plain": [
       "[<matplotlib.lines.Line2D at 0x7fc3da2b9460>]"
      ]
     },
     "execution_count": 7,
     "metadata": {},
     "output_type": "execute_result"
    },
    {
     "data": {
      "image/png": "[encoded data removed]",
      "text/plain": [
       "<Figure size 432x288 with 1 Axes>"
      ]
     },
     "metadata": {
      "needs_background": "light"
     },
     "output_type": "display_data"
    }
   ],
   "source": [
    "import numpy as np\n",
    "import torch\n",
    "import torch.nn.functional as F\n",
    "import matplotlib.pyplot as plt\n",
    "a = np.linspace(-10, 10, 20)\n",
    "print(a)\n",
    "x = torch.tensor(a)\n",
    "mish = x *( torch.tanh(F.softplus(x)))\n",
    "plt.plot(mish)"
   ]
  },
  {
   "cell_type": "code",
   "execution_count": 10,
   "metadata": {},
   "outputs": [
    {
     "name": "stdout",
     "output_type": "stream",
     "text": [
      "1 2\n",
      "1\n"
     ]
    }
   ],
   "source": [
    "class a():\n",
    "    b = 1\n",
    "    c = 2\n",
    "\n",
    "d = a()\n",
    "\n",
    "print(a.b, a.c)    \n",
    "\n",
    "print(d.b)"
   ]
  },
  {
   "cell_type": "code",
   "execution_count": 59,
   "metadata": {},
   "outputs": [
    {
     "name": "stdout",
     "output_type": "stream",
     "text": [
      "<class 'list'> [1, 2, 3, 4, 5, 6, 7, 8, 9]\n",
      "<class 'tuple'> ([1, 2, 3, 4, 5, 6, 7, 8, 9],)\n",
      "[1, 2, 3, 4, 5, 6, 7, 8, 9]\n",
      "None\n",
      "unpack 1 2 3 4 5 6 7 8 9\n",
      "<class 'tuple'> (1, 2, 3, 4, 5, 6, 7, 8, 9)\n",
      "1\n",
      "2\n",
      "3\n",
      "4\n",
      "5\n",
      "6\n",
      "7\n",
      "8\n",
      "9\n",
      "None\n",
      "1 2 3 4 5 6 7 8 9 1\n"
     ]
    }
   ],
   "source": [
    "x = [1,2,3,4,5,6,7,8,9]\n",
    "print(type(x), x)\n",
    "def a(*b): #숫자가 정해지지 않는 인수 받음.\n",
    "    print(type(b), b)\n",
    "    for i in b:\n",
    "        print(i)\n",
    "\n",
    "print(a(x)) # x list 전체가 한개로 전달되는 형태\n",
    "print('unpack', *x) #unpack x\n",
    "print(a(*x)) #unpack x 전달\n",
    "d, *_ = x # unpack\n",
    "print(d, *_, x[0])\n"
   ]
  },
  {
   "cell_type": "code",
   "execution_count": 58,
   "metadata": {},
   "outputs": [
    {
     "name": "stdout",
     "output_type": "stream",
     "text": [
      "[1, 2, 3, 4, 5, 6, 7, 8, 9]\n",
      "<class 'list'> [1, 2, 3, 4, 5, 6, 7, 8, 9] 9\n",
      "0 1\n",
      "1 2\n",
      "2 3\n",
      "3 4\n",
      "4 5\n",
      "5 6\n",
      "6 7\n",
      "7 8\n",
      "8 9\n",
      "None\n",
      "1 2 3 4 5 6 7 8 9\n",
      "<class 'int'> 1 1\n",
      "<class 'list'> [2, 3, 4, 5, 6, 7, 8, 9]\n",
      "1\n",
      "2\n",
      "3\n",
      "4\n",
      "5\n",
      "6\n",
      "7\n",
      "8\n",
      "9\n"
     ]
    }
   ],
   "source": [
    "x = [1,2,3,4,5,6,7,8,9]\n",
    "print(x)\n",
    "def a(b):\n",
    "    print(type(b), b, len(b))\n",
    "    for n, i in enumerate(b):\n",
    "        print(n, i)\n",
    "    return\n",
    "\n",
    "print(a(x))  # x list 전체가 한개로 전달되는 형태\n",
    "print(*x) #unpack x\n",
    "# print(a(*x)) #unpack x 전달 error\n",
    "d, *e = x\n",
    "print(type(d), d, x[0])\n",
    "print(type(e),e)\n",
    "for i in x:\n",
    "    print(i)"
   ]
  },
  {
   "cell_type": "code",
   "execution_count": 3,
   "metadata": {},
   "outputs": [],
   "source": [
    "for i in range(1, 1):\n",
    "    print(i)\n",
    "\n",
    "    print('here')"
   ]
  },
  {
   "cell_type": "code",
   "execution_count": 54,
   "metadata": {},
   "outputs": [
    {
     "name": "stdout",
     "output_type": "stream",
     "text": [
      "tensor([[[ 0,  1,  2,  3],\n",
      "         [ 4,  5,  6,  7],\n",
      "         [ 8,  9, 10, 11],\n",
      "         [12, 13, 14, 15]],\n",
      "\n",
      "        [[16, 17, 18, 19],\n",
      "         [20, 21, 22, 23],\n",
      "         [24, 25, 26, 27],\n",
      "         [28, 29, 30, 31]],\n",
      "\n",
      "        [[32, 33, 34, 35],\n",
      "         [36, 37, 38, 39],\n",
      "         [40, 41, 42, 43],\n",
      "         [44, 45, 46, 47]],\n",
      "\n",
      "        [[48, 49, 50, 51],\n",
      "         [52, 53, 54, 55],\n",
      "         [56, 57, 58, 59],\n",
      "         [60, 61, 62, 63]]])\n"
     ]
    },
    {
     "ename": "RuntimeError",
     "evalue": "\"compute_indices_weights_nearest\" not implemented for 'Long'",
     "output_type": "error",
     "traceback": [
      "\u001b[0;31m---------------------------------------------------------------------------\u001b[0m",
      "\u001b[0;31mRuntimeError\u001b[0m                              Traceback (most recent call last)",
      "\u001b[1;32m/home/bj/data/dnn/BJNet/test.ipynb Cell 19\u001b[0m in \u001b[0;36m<module>\u001b[0;34m\u001b[0m\n\u001b[1;32m      <a href='vscode-notebook-cell:/home/bj/data/dnn/BJNet/test.ipynb#X24sZmlsZQ%3D%3D?line=2'>3</a>\u001b[0m a \u001b[39m=\u001b[39m torch\u001b[39m.\u001b[39mtensor(np\u001b[39m.\u001b[39marange(\u001b[39m4\u001b[39m\u001b[39m*\u001b[39m\u001b[39m4\u001b[39m\u001b[39m*\u001b[39m\u001b[39m4\u001b[39m)\u001b[39m.\u001b[39mreshape( \u001b[39m4\u001b[39m,\u001b[39m4\u001b[39m,\u001b[39m4\u001b[39m))\n\u001b[1;32m      <a href='vscode-notebook-cell:/home/bj/data/dnn/BJNet/test.ipynb#X24sZmlsZQ%3D%3D?line=3'>4</a>\u001b[0m \u001b[39mprint\u001b[39m(a)\n\u001b[0;32m----> <a href='vscode-notebook-cell:/home/bj/data/dnn/BJNet/test.ipynb#X24sZmlsZQ%3D%3D?line=4'>5</a>\u001b[0m b \u001b[39m=\u001b[39m F\u001b[39m.\u001b[39;49minterpolate(a,scale_factor\u001b[39m=\u001b[39;49m\u001b[39m2\u001b[39;49m )\n\u001b[1;32m      <a href='vscode-notebook-cell:/home/bj/data/dnn/BJNet/test.ipynb#X24sZmlsZQ%3D%3D?line=5'>6</a>\u001b[0m \u001b[39mprint\u001b[39m(b)\n",
      "File \u001b[0;32m~/data/dnn/cfnet_venv/lib/python3.8/site-packages/torch/nn/functional.py:3710\u001b[0m, in \u001b[0;36minterpolate\u001b[0;34m(input, size, scale_factor, mode, align_corners, recompute_scale_factor)\u001b[0m\n\u001b[1;32m   3707\u001b[0m     scale_factors \u001b[39m=\u001b[39m \u001b[39mNone\u001b[39;00m\n\u001b[1;32m   3709\u001b[0m \u001b[39mif\u001b[39;00m \u001b[39minput\u001b[39m\u001b[39m.\u001b[39mdim() \u001b[39m==\u001b[39m \u001b[39m3\u001b[39m \u001b[39mand\u001b[39;00m mode \u001b[39m==\u001b[39m \u001b[39m\"\u001b[39m\u001b[39mnearest\u001b[39m\u001b[39m\"\u001b[39m:\n\u001b[0;32m-> 3710\u001b[0m     \u001b[39mreturn\u001b[39;00m torch\u001b[39m.\u001b[39;49m_C\u001b[39m.\u001b[39;49m_nn\u001b[39m.\u001b[39;49mupsample_nearest1d(\u001b[39minput\u001b[39;49m, output_size, scale_factors)\n\u001b[1;32m   3711\u001b[0m \u001b[39mif\u001b[39;00m \u001b[39minput\u001b[39m\u001b[39m.\u001b[39mdim() \u001b[39m==\u001b[39m \u001b[39m4\u001b[39m \u001b[39mand\u001b[39;00m mode \u001b[39m==\u001b[39m \u001b[39m\"\u001b[39m\u001b[39mnearest\u001b[39m\u001b[39m\"\u001b[39m:\n\u001b[1;32m   3712\u001b[0m     \u001b[39mreturn\u001b[39;00m torch\u001b[39m.\u001b[39m_C\u001b[39m.\u001b[39m_nn\u001b[39m.\u001b[39mupsample_nearest2d(\u001b[39minput\u001b[39m, output_size, scale_factors)\n",
      "\u001b[0;31mRuntimeError\u001b[0m: \"compute_indices_weights_nearest\" not implemented for 'Long'"
     ]
    }
   ],
   "source": [
    "import torch.nn.functional as F\n",
    "import numpy as np\n",
    "a = torch.tensor(np.arange(4*4*4).reshape( 4,4,4))\n",
    "print(a)\n",
    "b = F.interpolate(a,scale_factor=2 )\n",
    "print(b)"
   ]
  },
  {
   "cell_type": "code",
   "execution_count": 26,
   "metadata": {},
   "outputs": [
    {
     "name": "stdout",
     "output_type": "stream",
     "text": [
      "tensor([[[0., 1., 2., 3., 4., 5., 6., 7.],\n",
      "         [0., 1., 2., 3., 4., 5., 6., 7.],\n",
      "         [0., 1., 2., 3., 4., 5., 6., 7.],\n",
      "         [0., 1., 2., 3., 4., 5., 6., 7.]]])\n",
      "torch.Size([1, 2, 3, 4, 8])\n",
      "torch.Size([1, 2, 3, 4, 8])\n",
      "disparity_samples tensor([[[[ 0.,  1.,  2.,  3.,  4.,  5.,  6.,  7.],\n",
      "          [ 8.,  9., 10., 11., 12., 13., 14., 15.],\n",
      "          [16., 17., 18., 19., 20., 21., 22., 23.],\n",
      "          [24., 25., 26., 27., 28., 29., 30., 31.]],\n",
      "\n",
      "         [[32., 33., 34., 35., 36., 37., 38., 39.],\n",
      "          [40., 41., 42., 43., 44., 45., 46., 47.],\n",
      "          [48., 49., 50., 51., 52., 53., 54., 55.],\n",
      "          [56., 57., 58., 59., 60., 61., 62., 63.]],\n",
      "\n",
      "         [[64., 65., 66., 67., 68., 69., 70., 71.],\n",
      "          [72., 73., 74., 75., 76., 77., 78., 79.],\n",
      "          [80., 81., 82., 83., 84., 85., 86., 87.],\n",
      "          [88., 89., 90., 91., 92., 93., 94., 95.]]]])\n",
      "right_y_coordinate tensor([[[[0., 1., 2., 3., 4., 5., 6., 7.],\n",
      "          [0., 1., 2., 3., 4., 5., 6., 7.],\n",
      "          [0., 1., 2., 3., 4., 5., 6., 7.],\n",
      "          [0., 1., 2., 3., 4., 5., 6., 7.]],\n",
      "\n",
      "         [[0., 1., 2., 3., 4., 5., 6., 7.],\n",
      "          [0., 1., 2., 3., 4., 5., 6., 7.],\n",
      "          [0., 1., 2., 3., 4., 5., 6., 7.],\n",
      "          [0., 1., 2., 3., 4., 5., 6., 7.]],\n",
      "\n",
      "         [[0., 1., 2., 3., 4., 5., 6., 7.],\n",
      "          [0., 1., 2., 3., 4., 5., 6., 7.],\n",
      "          [0., 1., 2., 3., 4., 5., 6., 7.],\n",
      "          [0., 1., 2., 3., 4., 5., 6., 7.]]]])\n",
      "right_y_coordinate tensor([[[[  0.,   0.,   0.,   0.,   0.,   0.,   0.,   0.],\n",
      "          [ -8.,  -8.,  -8.,  -8.,  -8.,  -8.,  -8.,  -8.],\n",
      "          [-16., -16., -16., -16., -16., -16., -16., -16.],\n",
      "          [-24., -24., -24., -24., -24., -24., -24., -24.]],\n",
      "\n",
      "         [[-32., -32., -32., -32., -32., -32., -32., -32.],\n",
      "          [-40., -40., -40., -40., -40., -40., -40., -40.],\n",
      "          [-48., -48., -48., -48., -48., -48., -48., -48.],\n",
      "          [-56., -56., -56., -56., -56., -56., -56., -56.]],\n",
      "\n",
      "         [[-64., -64., -64., -64., -64., -64., -64., -64.],\n",
      "          [-72., -72., -72., -72., -72., -72., -72., -72.],\n",
      "          [-80., -80., -80., -80., -80., -80., -80., -80.],\n",
      "          [-88., -88., -88., -88., -88., -88., -88., -88.]]]])\n",
      "tensor([[[[[ 0,  0,  0,  0,  0,  0,  0,  0],\n",
      "           [ 8,  8,  8,  8,  8,  8,  8,  8],\n",
      "           [16, 16, 16, 16, 16, 16, 16, 16],\n",
      "           [24, 24, 24, 24, 24, 24, 24, 24]],\n",
      "\n",
      "          [[ 0,  0,  0,  0,  0,  0,  0,  0],\n",
      "           [ 8,  8,  8,  8,  8,  8,  8,  8],\n",
      "           [16, 16, 16, 16, 16, 16, 16, 16],\n",
      "           [24, 24, 24, 24, 24, 24, 24, 24]],\n",
      "\n",
      "          [[ 0,  0,  0,  0,  0,  0,  0,  0],\n",
      "           [ 8,  8,  8,  8,  8,  8,  8,  8],\n",
      "           [16, 16, 16, 16, 16, 16, 16, 16],\n",
      "           [24, 24, 24, 24, 24, 24, 24, 24]]],\n",
      "\n",
      "\n",
      "         [[[32, 32, 32, 32, 32, 32, 32, 32],\n",
      "           [40, 40, 40, 40, 40, 40, 40, 40],\n",
      "           [48, 48, 48, 48, 48, 48, 48, 48],\n",
      "           [56, 56, 56, 56, 56, 56, 56, 56]],\n",
      "\n",
      "          [[32, 32, 32, 32, 32, 32, 32, 32],\n",
      "           [40, 40, 40, 40, 40, 40, 40, 40],\n",
      "           [48, 48, 48, 48, 48, 48, 48, 48],\n",
      "           [56, 56, 56, 56, 56, 56, 56, 56]],\n",
      "\n",
      "          [[32, 32, 32, 32, 32, 32, 32, 32],\n",
      "           [40, 40, 40, 40, 40, 40, 40, 40],\n",
      "           [48, 48, 48, 48, 48, 48, 48, 48],\n",
      "           [56, 56, 56, 56, 56, 56, 56, 56]]]]])\n",
      "tensor([[[[[ 0.,  0.,  0.,  0.,  0.,  0.,  0.,  0.],\n",
      "           [ 0.,  0.,  0.,  0.,  0.,  0.,  0.,  0.],\n",
      "           [ 0.,  0.,  0.,  0.,  0.,  0.,  0.,  0.],\n",
      "           [ 0.,  0.,  0.,  0.,  0.,  0.,  0.,  0.]],\n",
      "\n",
      "          [[ 0.,  0.,  0.,  0.,  0.,  0.,  0.,  0.],\n",
      "           [ 0.,  0.,  0.,  0.,  0.,  0.,  0.,  0.],\n",
      "           [ 0.,  0.,  0.,  0.,  0.,  0.,  0.,  0.],\n",
      "           [ 0.,  0.,  0.,  0.,  0.,  0.,  0.,  0.]],\n",
      "\n",
      "          [[ 0.,  0.,  0.,  0.,  0.,  0.,  0.,  0.],\n",
      "           [ 0.,  0.,  0.,  0.,  0.,  0.,  0.,  0.],\n",
      "           [ 0.,  0.,  0.,  0.,  0.,  0.,  0.,  0.],\n",
      "           [ 0.,  0.,  0.,  0.,  0.,  0.,  0.,  0.]]],\n",
      "\n",
      "\n",
      "         [[[32., 32., 32., 32., 32., 32., 32., 32.],\n",
      "           [ 0.,  0.,  0.,  0.,  0.,  0.,  0.,  0.],\n",
      "           [ 0.,  0.,  0.,  0.,  0.,  0.,  0.,  0.],\n",
      "           [ 0.,  0.,  0.,  0.,  0.,  0.,  0.,  0.]],\n",
      "\n",
      "          [[ 0.,  0.,  0.,  0.,  0.,  0.,  0.,  0.],\n",
      "           [ 0.,  0.,  0.,  0.,  0.,  0.,  0.,  0.],\n",
      "           [ 0.,  0.,  0.,  0.,  0.,  0.,  0.,  0.],\n",
      "           [ 0.,  0.,  0.,  0.,  0.,  0.,  0.,  0.]],\n",
      "\n",
      "          [[ 0.,  0.,  0.,  0.,  0.,  0.,  0.,  0.],\n",
      "           [ 0.,  0.,  0.,  0.,  0.,  0.,  0.,  0.],\n",
      "           [ 0.,  0.,  0.,  0.,  0.,  0.,  0.,  0.],\n",
      "           [ 0.,  0.,  0.,  0.,  0.,  0.,  0.,  0.]]]]])\n"
     ]
    }
   ],
   "source": [
    "left_input = torch.arange(64).view(1,2,4,8)\n",
    "right_input = torch.arange(64).view(1,2,4,8)\n",
    "disparity_samples = torch.arange(96).view(1,3,4,8)\n",
    "left_y_coordinate = torch.arange(0.0, left_input.size()[3] ).repeat(left_input.size()[2])\n",
    "left_y_coordinate = left_y_coordinate.view(left_input.size()[2], left_input.size()[3])\n",
    "left_y_coordinate = torch.clamp(left_y_coordinate, min=0, max=left_input.size()[3] - 1)\n",
    "left_y_coordinate = left_y_coordinate.expand(left_input.size()[0], -1, -1)\n",
    "print(left_y_coordinate)\n",
    "\n",
    "right_feature_map = right_input.expand(disparity_samples.size()[1], -1, -1, -1, -1).permute([1, 2, 0, 3, 4])\n",
    "print(right_feature_map.size())\n",
    "left_feature_map = left_input.expand(disparity_samples.size()[1], -1, -1, -1, -1).permute([1, 2, 0, 3, 4])\n",
    "print(left_feature_map.size())\n",
    "\n",
    "disparity_samples = disparity_samples.float()\n",
    "print('disparity_samples', disparity_samples)\n",
    "\n",
    "\n",
    "right_y_coordinate = left_y_coordinate.expand(\n",
    "    disparity_samples.size()[1], -1, -1, -1).permute([1, 0, 2, 3])\n",
    "print('right_y_coordinate', right_y_coordinate)\n",
    "\n",
    "right_y_coordinate = right_y_coordinate - disparity_samples\n",
    "print('right_y_coordinate', right_y_coordinate)\n",
    "\n",
    "\n",
    "right_y_coordinate_1 = right_y_coordinate\n",
    "right_y_coordinate = torch.clamp(right_y_coordinate, min=0, max=right_input.size()[3] - 1)\n",
    "\n",
    "warped_right_feature_map = torch.gather(right_feature_map, dim=4, index=right_y_coordinate.expand(\n",
    "    right_input.size()[1], -1, -1, -1, -1).permute([1, 0, 2, 3, 4]).long())\n",
    "print(warped_right_feature_map)\n",
    "right_y_coordinate_1 = right_y_coordinate_1.unsqueeze(1)\n",
    "warped_right_feature_map = (1 - ((right_y_coordinate_1 < 0) +\n",
    "                                    (right_y_coordinate_1 > right_input.size()[3] - 1)).float()) * \\\n",
    "    (warped_right_feature_map) + torch.zeros_like(warped_right_feature_map)\n",
    "print(warped_right_feature_map)"
   ]
  },
  {
   "cell_type": "code",
   "execution_count": 17,
   "metadata": {},
   "outputs": [
    {
     "name": "stdout",
     "output_type": "stream",
     "text": [
      "tensor([10., 10., 10., 10., 10., 10., 10., 10., 10., 10., 10., 10., 10., 10.,\n",
      "        10., 10., 10., 10., 10., 10.])\n",
      "tensor([3., 3., 3., 3., 3., 3., 3., 3., 3., 3., 3., 3., 3., 3., 3., 3., 3., 3.,\n",
      "        3., 3.])\n"
     ]
    }
   ],
   "source": [
    "a=torch.ones(20, requires_grad=True)\n",
    "b=a**4\n",
    "c=a**6\n",
    "i=(b+c).sum()\n",
    "i.backward()\n",
    "print(a.grad)\n",
    "\n",
    "\n",
    "a=torch.ones(20, requires_grad=True)\n",
    "b=a**3\n",
    "c=a.detach()**6\n",
    "i=(b+c).sum()\n",
    "i.backward()\n",
    "print(a.grad)\n",
    "\n",
    "\n"
   ]
  },
  {
   "cell_type": "code",
   "execution_count": 24,
   "metadata": {},
   "outputs": [
    {
     "name": "stdout",
     "output_type": "stream",
     "text": [
      "tensor([0, 1, 2, 3, 4, 5, 6, 7])\n",
      "tensor([False, False, False, False, False, False,  True,  True])\n",
      "tensor([False, False, False, False,  True,  True,  True,  True])\n",
      "tensor([False, False, False, False,  True,  True,  True,  True])\n"
     ]
    }
   ],
   "source": [
    "a = torch.arange(8) \n",
    "print(a)\n",
    "print(a > 5)\n",
    "print(a > 5 - 2)\n",
    "print(a > (5 - 2))"
   ]
  },
  {
   "cell_type": "code",
   "execution_count": 2,
   "metadata": {},
   "outputs": [
    {
     "data": {
      "text/plain": [
       "dict_keys(['a', 'b', 'c'])"
      ]
     },
     "execution_count": 2,
     "metadata": {},
     "output_type": "execute_result"
    }
   ],
   "source": [
    "a = {'a':1, 'b':2, 'c':3}\n",
    "a.keys()"
   ]
  },
  {
   "cell_type": "code",
   "execution_count": 8,
   "metadata": {},
   "outputs": [
    {
     "name": "stdout",
     "output_type": "stream",
     "text": [
      "1.2000000000000002\n",
      "True\n"
     ]
    }
   ],
   "source": [
    "a = 0.1 + 1.1\n",
    "print(a)\n",
    "if a > 1.2:\n",
    "    print(True)\n",
    "\n",
    "else:\n",
    "    print(False)\n"
   ]
  },
  {
   "cell_type": "code",
   "execution_count": null,
   "metadata": {},
   "outputs": [],
   "source": []
  }
 ],
 "metadata": {
  "kernelspec": {
   "display_name": "Python 3.8.10 ('cfnet_venv')",
   "language": "python",
   "name": "python3"
  },
  "language_info": {
   "codemirror_mode": {
    "name": "ipython",
    "version": 3
   },
   "file_extension": ".py",
   "mimetype": "text/x-python",
   "name": "python",
   "nbconvert_exporter": "python",
   "pygments_lexer": "ipython3",
   "version": "3.8.10"
  },
  "orig_nbformat": 4,
  "vscode": {
   "interpreter": {
    "hash": "f8b245196578ab60b61e543640d320aa047218d8e06c6b0318c56bb35d0b3b3d"
   }
  }
 },
 "nbformat": 4,
 "nbformat_minor": 2
}
